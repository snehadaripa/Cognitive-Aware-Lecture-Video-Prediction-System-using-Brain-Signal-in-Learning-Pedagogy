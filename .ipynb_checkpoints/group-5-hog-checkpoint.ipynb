version https://git-lfs.github.com/spec/v1
oid sha256:8bb97f770fb855f3302a9ead6c936c9391c5f67a8de9c8645aa43c4c7084a5b1
size 6828577
