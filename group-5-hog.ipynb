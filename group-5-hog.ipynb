{
 "cells": [
  {
   "cell_type": "code",
   "execution_count": 1,
   "metadata": {},
   "outputs": [],
   "source": [
    "import numpy as np\n",
    "\n",
    "import matplotlib.pyplot as plt\n",
    "import matplotlib.image as mpimg\n",
    "\n",
    "import pandas as pd\n",
    "import pywt\n",
    "\n",
    "import csv\n",
    "import math\n",
    "import random"
   ]
  },
  {
   "cell_type": "code",
   "execution_count": 2,
   "metadata": {},
   "outputs": [],
   "source": [
    "def hog_magnitude_orientation(m0,m1,x,m2,m3):\n",
    "    \n",
    "    diff1 = m0-m2\n",
    "    diff2 = m1-m3\n",
    "    \n",
    "    grad_magnitude = np.sqrt(diff1**2 + diff2**2)\n",
    "    if(diff2==0):\n",
    "        grad_orientation = math.degrees(math.atan(abs(diff1/1)))\n",
    "    else:\n",
    "        grad_orientation = math.degrees(math.atan(abs(diff1/diff2)))\n",
    "    \n",
    "    return grad_magnitude, grad_orientation\n"
   ]
  },
  {
   "cell_type": "code",
   "execution_count": null,
   "metadata": {},
   "outputs": [],
   "source": [
    "import pandas as pd\n",
    "import numpy as np\n",
    "\n",
    "def normalise(X):\n",
    "    if X.ndim == 2:\n",
    "        for i in range(X.shape[1]):\n",
    "            v = X[:,i]\n",
    "            if (v.max() - v.min()) != 0:\n",
    "                X[:,i] = (v - v.min())/(v.max() - v.min())\n",
    "            else:\n",
    "                X[:,i] = 0.0\n",
    "    return X\n",
    "\n",
    "no_of_users = 20\n",
    "no_of_video = 10\n",
    "num_bins = 90\n",
    "\n",
    "for i in range(no_of_users):  \n",
    "        if(i%1 == 0):\n",
    "            if i < 9:\n",
    "                #name = '%0*d' % (2,i+1)\n",
    "                name='0'+str(i+1)\n",
    "            else:\n",
    "                name = i+1\n",
    "        header = np.arange(0, 180, 2 , dtype=None)\n",
    "        with open('./hog/hog_1_second/user'+str(i+1)+'_1.csv', 'w', encoding='UTF8', newline='') as f:\n",
    "            writer = csv.writer(f)\n",
    "            writer.writerow(header)\n",
    "            for j in range(no_of_video):\n",
    "\n",
    "                #fname = \"DataSet/DataSet_one_second/S\"+str(name)+\"_1/S\"+str(name)+\"_video\"+str(j+1)+\".csv\" \n",
    "                fname = \"DataSet/DataSet_one_second/S\"+str(i+1)+\"_1/s\"+str(name)+\"_video\"+str(j)+\".csv\"\n",
    "\n",
    "                X1 = np.genfromtxt(fname, delimiter=',')\n",
    "                X1 = normalise(X1)\n",
    "                data=X1.flatten()\n",
    "                hog_list = [0] * num_bins\n",
    "                #print(data)\n",
    "        #         length=int(len(data)/3)\n",
    "                for a in range(2,len(data),3):\n",
    "                    if a+3<=len(data):\n",
    "                        res = (hog_magnitude_orientation(data[a-2],data[a-1],data[a],data[a+1],data[a+2]))\n",
    "                        grad_mag = res[0]\n",
    "                        grad_ori = res[1]\n",
    "\n",
    "                        bin1 = int(grad_ori/2)\n",
    "                        bin2 = bin1 + 1\n",
    "                        if(abs(grad_ori-bin2)<(abs(grad_ori-bin1))):\n",
    "                            hog_list[bin1] += ((bin2-grad_ori)/2)*grad_mag\n",
    "                            hog_list[bin2] += ((grad_ori-bin1)/2)*grad_mag\n",
    "                        else:\n",
    "                            hog_list[bin2] += ((bin2-grad_ori)/2)*grad_mag\n",
    "                            hog_list[bin1] += ((grad_ori-bin1)/2)*grad_mag\n",
    "                           \n",
    "                writer.writerow(hog_list)\n",
    "                \n",
    "        #             #print(grad_or)\n"
   ]
  },
  {
   "cell_type": "code",
   "execution_count": null,
   "metadata": {},
   "outputs": [],
   "source": []
  }
 ],
 "metadata": {
  "kernelspec": {
   "display_name": "Python 3",
   "language": "python",
   "name": "python3"
  },
  "language_info": {
   "codemirror_mode": {
    "name": "ipython",
    "version": 3
   },
   "file_extension": ".py",
   "mimetype": "text/x-python",
   "name": "python",
   "nbconvert_exporter": "python",
   "pygments_lexer": "ipython3",
   "version": "3.8.3"
  }
 },
 "nbformat": 4,
 "nbformat_minor": 4
}
