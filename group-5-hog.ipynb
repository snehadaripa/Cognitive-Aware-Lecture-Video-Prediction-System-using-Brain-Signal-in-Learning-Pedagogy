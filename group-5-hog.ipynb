version https://git-lfs.github.com/spec/v1
oid sha256:ac3445bd73b4bb1d8b5e4e197fe19da78866551bba29c5d5520f0d8a03a833e8
size 5381
