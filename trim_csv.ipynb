{
 "cells": [
  {
   "cell_type": "code",
   "execution_count": 17,
   "metadata": {},
   "outputs": [],
   "source": [
    "import pandas as pd"
   ]
  },
  {
   "cell_type": "code",
   "execution_count": 18,
   "metadata": {},
   "outputs": [],
   "source": [
    "no_of_users=20\n",
    "no_of_video=10\n",
    "for i in range(no_of_users):  \n",
    "        for j in range(no_of_video):\n",
    "            fname = 'HOG/hog_1_second/User '+str(i+1)+\"/\"+str(i+1)+'_'+str(j)+'_1.csv'\n",
    "            #print(fname)\n",
    "            df = pd.read_csv(fname, keep_default_na=False, na_values=[\"\"])\n",
    "            df.drop(df.iloc[:, 19:], inplace=True, axis=1)\n",
    "            df.to_csv(fname, index=False)"
   ]
  },
  {
   "cell_type": "code",
   "execution_count": null,
   "metadata": {},
   "outputs": [],
   "source": []
  }
 ],
 "metadata": {
  "kernelspec": {
   "display_name": "Python 3",
   "language": "python",
   "name": "python3"
  },
  "language_info": {
   "codemirror_mode": {
    "name": "ipython",
    "version": 3
   },
   "file_extension": ".py",
   "mimetype": "text/x-python",
   "name": "python",
   "nbconvert_exporter": "python",
   "pygments_lexer": "ipython3",
   "version": "3.8.3"
  }
 },
 "nbformat": 4,
 "nbformat_minor": 4
}
